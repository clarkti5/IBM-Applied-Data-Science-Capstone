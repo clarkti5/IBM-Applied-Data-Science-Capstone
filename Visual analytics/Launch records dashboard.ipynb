{
 "cells": [
  {
   "cell_type": "markdown",
   "id": "68925cd8",
   "metadata": {},
   "source": [
    "# SpaceX Dash App\n",
    "\n",
    "We use Jupyter Dash to construct an interactive dashboard from SpaceX launch data."
   ]
  },
  {
   "cell_type": "markdown",
   "id": "6d6ffb90",
   "metadata": {},
   "source": [
    "### Import required libraries"
   ]
  },
  {
   "cell_type": "code",
   "execution_count": 1,
   "id": "8a3abf8d",
   "metadata": {},
   "outputs": [],
   "source": [
    "import pandas as pd\n",
    "import dash\n",
    "from dash import html\n",
    "from dash import dcc\n",
    "from dash.dependencies import Input, Output\n",
    "from jupyter_dash import JupyterDash\n",
    "import plotly.express as px\n",
    "import warnings"
   ]
  },
  {
   "cell_type": "markdown",
   "id": "e452d0bf",
   "metadata": {},
   "source": [
    "### Read the launch data into a dataframe"
   ]
  },
  {
   "cell_type": "code",
   "execution_count": 2,
   "id": "fc2a8c83",
   "metadata": {},
   "outputs": [],
   "source": [
    "spacex_df = pd.read_csv(\"/Users/XXXX/Documents/IBM Applied Data Science Capstone/week 3 visual analytics dashboards/spacex_launch_dash.csv\", index_col=0)"
   ]
  },
  {
   "cell_type": "markdown",
   "id": "e0deefed",
   "metadata": {},
   "source": [
    "Check out the first few rows of the data and their data types."
   ]
  },
  {
   "cell_type": "code",
   "execution_count": 3,
   "id": "88954e9a",
   "metadata": {},
   "outputs": [
    {
     "data": {
      "text/html": [
       "<div>\n",
       "<style scoped>\n",
       "    .dataframe tbody tr th:only-of-type {\n",
       "        vertical-align: middle;\n",
       "    }\n",
       "\n",
       "    .dataframe tbody tr th {\n",
       "        vertical-align: top;\n",
       "    }\n",
       "\n",
       "    .dataframe thead th {\n",
       "        text-align: right;\n",
       "    }\n",
       "</style>\n",
       "<table border=\"1\" class=\"dataframe\">\n",
       "  <thead>\n",
       "    <tr style=\"text-align: right;\">\n",
       "      <th></th>\n",
       "      <th>Flight Number</th>\n",
       "      <th>Launch Site</th>\n",
       "      <th>class</th>\n",
       "      <th>Payload Mass (kg)</th>\n",
       "      <th>Booster Version</th>\n",
       "      <th>Booster Version Category</th>\n",
       "    </tr>\n",
       "  </thead>\n",
       "  <tbody>\n",
       "    <tr>\n",
       "      <th>0</th>\n",
       "      <td>1</td>\n",
       "      <td>CCAFS LC-40</td>\n",
       "      <td>0</td>\n",
       "      <td>0.0</td>\n",
       "      <td>F9 v1.0  B0003</td>\n",
       "      <td>v1.0</td>\n",
       "    </tr>\n",
       "    <tr>\n",
       "      <th>1</th>\n",
       "      <td>2</td>\n",
       "      <td>CCAFS LC-40</td>\n",
       "      <td>0</td>\n",
       "      <td>0.0</td>\n",
       "      <td>F9 v1.0  B0004</td>\n",
       "      <td>v1.0</td>\n",
       "    </tr>\n",
       "    <tr>\n",
       "      <th>2</th>\n",
       "      <td>3</td>\n",
       "      <td>CCAFS LC-40</td>\n",
       "      <td>0</td>\n",
       "      <td>525.0</td>\n",
       "      <td>F9 v1.0  B0005</td>\n",
       "      <td>v1.0</td>\n",
       "    </tr>\n",
       "    <tr>\n",
       "      <th>3</th>\n",
       "      <td>4</td>\n",
       "      <td>CCAFS LC-40</td>\n",
       "      <td>0</td>\n",
       "      <td>500.0</td>\n",
       "      <td>F9 v1.0  B0006</td>\n",
       "      <td>v1.0</td>\n",
       "    </tr>\n",
       "    <tr>\n",
       "      <th>4</th>\n",
       "      <td>5</td>\n",
       "      <td>CCAFS LC-40</td>\n",
       "      <td>0</td>\n",
       "      <td>677.0</td>\n",
       "      <td>F9 v1.0  B0007</td>\n",
       "      <td>v1.0</td>\n",
       "    </tr>\n",
       "  </tbody>\n",
       "</table>\n",
       "</div>"
      ],
      "text/plain": [
       "   Flight Number  Launch Site  class  Payload Mass (kg) Booster Version  \\\n",
       "0              1  CCAFS LC-40      0                0.0  F9 v1.0  B0003   \n",
       "1              2  CCAFS LC-40      0                0.0  F9 v1.0  B0004   \n",
       "2              3  CCAFS LC-40      0              525.0  F9 v1.0  B0005   \n",
       "3              4  CCAFS LC-40      0              500.0  F9 v1.0  B0006   \n",
       "4              5  CCAFS LC-40      0              677.0  F9 v1.0  B0007   \n",
       "\n",
       "  Booster Version Category  \n",
       "0                     v1.0  \n",
       "1                     v1.0  \n",
       "2                     v1.0  \n",
       "3                     v1.0  \n",
       "4                     v1.0  "
      ]
     },
     "execution_count": 3,
     "metadata": {},
     "output_type": "execute_result"
    }
   ],
   "source": [
    "spacex_df.head()"
   ]
  },
  {
   "cell_type": "markdown",
   "id": "4c18e981",
   "metadata": {},
   "source": [
    "Identify the maximum and minimum payload values (to be used in a slider for the dashboard later)."
   ]
  },
  {
   "cell_type": "code",
   "execution_count": 4,
   "id": "8970019e",
   "metadata": {},
   "outputs": [],
   "source": [
    "max_payload = spacex_df['Payload Mass (kg)'].max()\n",
    "min_payload = spacex_df['Payload Mass (kg)'].min()"
   ]
  },
  {
   "cell_type": "markdown",
   "id": "58c99313",
   "metadata": {},
   "source": [
    "### Create the a Jupyter Dash application"
   ]
  },
  {
   "cell_type": "code",
   "execution_count": 5,
   "id": "b5c7ca7f",
   "metadata": {},
   "outputs": [],
   "source": [
    "app = JupyterDash(__name__)"
   ]
  },
  {
   "cell_type": "markdown",
   "id": "46c4976e",
   "metadata": {},
   "source": [
    "### Create the app layout and callback functions"
   ]
  },
  {
   "cell_type": "code",
   "execution_count": 6,
   "id": "55101833",
   "metadata": {},
   "outputs": [],
   "source": [
    "app.layout = html.Div(children=[html.H1('SpaceX Launch Records Dashboard',\n",
    "                                        style={'textAlign': 'center', 'color': '#503D36',\n",
    "                                               'font-size': 40}),\n",
    "                                # Add a dropdown list to enable Launch Site selection\n",
    "                                # The default select value is for ALL sites\n",
    "                                dcc.Dropdown(id='site-dropdown',\n",
    "                                            options = [\n",
    "                                                {'label': 'All sites', 'value': 'ALL'},\n",
    "                                                {'label': 'CCAFS LC-40', 'value': 'CCAFS LC-40'},\n",
    "                                                {'label': 'CCAFS SLC-40', 'value': 'CCAFS SLC-40'},\n",
    "                                                {'label': 'KSC LC-39A', 'value': 'KSC LC-39A'},\n",
    "                                                {'label': 'VAFB SLC-4E', 'value': 'VAFB SLC-4E'}\n",
    "                                            ],\n",
    "                                            value='ALL',\n",
    "                                            placeholder='Select a launch site',\n",
    "                                            searchable=True\n",
    "                                            ),\n",
    "                                html.Br(),\n",
    "\n",
    "                                # Add a pie chart to show the total successful launches count for all sites\n",
    "                                # If a specific launch site was selected, show the Success vs. Failed counts for the \n",
    "                                #site\n",
    "                                html.Div(dcc.Graph(id='success-pie-chart')),\n",
    "                                html.Br(),\n",
    "\n",
    "                                html.P(\"Payload range (Kg):\"),\n",
    "                                # Add a slider to select payload range\n",
    "                                dcc.RangeSlider(id='payload-slider',\n",
    "                                                min=0, max=10000, step=1000,\n",
    "                                                marks={0: '0',\n",
    "                                                      2500: '2500',\n",
    "                                                      5000: '5000',\n",
    "                                                      7500: '7500',\n",
    "                                                      10000: '10000'},\n",
    "                                                value=[min_payload, max_payload]),\n",
    "\n",
    "                                # Add a scatter chart to show the correlation between payload and launch success\n",
    "                                html.Div(dcc.Graph(id='success-payload-scatter-chart')),\n",
    "                                ])\n",
    "\n",
    "# Add a callback function for `site-dropdown` as input, `success-pie-chart` as output\n",
    "# Function decorator to specify function input and output\n",
    "@app.callback(Output(component_id='success-pie-chart', component_property='figure'),\n",
    "              Input(component_id='site-dropdown', component_property='value'))\n",
    "def get_pie_chart(entered_site):\n",
    "    if entered_site == 'ALL':\n",
    "        figure = px.pie(spacex_df,\n",
    "                     values='class',\n",
    "                     names='Launch Site',\n",
    "                     title='Total Successful Launches by Site'\n",
    "                    )\n",
    "        return figure\n",
    "    else:\n",
    "        filtered_df = spacex_df[spacex_df['Launch Site'] == entered_site]\n",
    "        figure = px.pie(filtered_df,\n",
    "                    names='class',\n",
    "                    title='Total Succesful Launches from site {}'.format(entered_site)\n",
    "                    )\n",
    "        return figure\n",
    "\n",
    "# TASK 4:\n",
    "# Add a callback function for `site-dropdown` and `payload-slider` as inputs, `success-payload-scatter-chart` as \n",
    "#output\n",
    "@app.callback(Output(component_id='success-payload-scatter-chart', component_property='figure'),\n",
    "             [Input(component_id='site-dropdown', component_property='value'),\n",
    "             Input(component_id='payload-slider', component_property='value')]\n",
    "             )\n",
    "def get_scatter_chart(entered_site, payload_range):\n",
    "    low, high = payload_range\n",
    "    payload_range_condition = (spacex_df['Payload Mass (kg)'] > low) & (spacex_df['Payload Mass (kg)'] < high)\n",
    "    if entered_site == 'ALL':\n",
    "        figure = px.scatter(spacex_df[payload_range_condition],\n",
    "                            x='Payload Mass (kg)',\n",
    "                            y='class',\n",
    "                            color='Booster Version Category',\n",
    "                            title='Correlation between payload and success for all sites'\n",
    "        )\n",
    "        return figure\n",
    "    else:\n",
    "        filtered_df = spacex_df[spacex_df['Launch Site'] == entered_site]\n",
    "        figure = px.scatter(filtered_df[payload_range_condition],\n",
    "                            x='Payload Mass (kg)',\n",
    "                            y='class',\n",
    "                            color='Booster Version Category',\n",
    "                            title='Correlation between payload and success for {}'.format(entered_site)\n",
    "                           )\n",
    "        return figure"
   ]
  },
  {
   "cell_type": "markdown",
   "id": "bbf3c0f4",
   "metadata": {},
   "source": [
    "### Run the app"
   ]
  },
  {
   "cell_type": "code",
   "execution_count": 7,
   "id": "0326208d",
   "metadata": {
    "scrolled": false
   },
   "outputs": [
    {
     "data": {
      "text/html": [
       "\n",
       "        <iframe\n",
       "            width=\"100%\"\n",
       "            height=\"650\"\n",
       "            src=\"http://127.0.0.1:8050/\"\n",
       "            frameborder=\"0\"\n",
       "            allowfullscreen\n",
       "            \n",
       "        ></iframe>\n",
       "        "
      ],
      "text/plain": [
       "<IPython.lib.display.IFrame at 0x7f9a13516ca0>"
      ]
     },
     "metadata": {},
     "output_type": "display_data"
    }
   ],
   "source": [
    "warnings.filterwarnings('ignore')\n",
    "app.run_server(mode=\"inline\")"
   ]
  },
  {
   "cell_type": "markdown",
   "id": "9f6a2d09",
   "metadata": {},
   "source": [
    "### Questions"
   ]
  },
  {
   "cell_type": "markdown",
   "id": "565fff42",
   "metadata": {},
   "source": [
    "1. Which site has the largest number of successful launches? \n",
    "2. Which site has the highest launch success rate?\n",
    "3. Which payload range(s) has the highest/lowest launch success rate?\n",
    "4. Which F9 booster version has the highest/lowest launch success rate?"
   ]
  },
  {
   "cell_type": "markdown",
   "id": "4c762daf",
   "metadata": {},
   "source": [
    "### Answers"
   ]
  },
  {
   "cell_type": "markdown",
   "id": "c3c5c35d",
   "metadata": {},
   "source": [
    "1. KSC LC-39A had 10 successful launches.\n",
    "2. CCAFS SLC-40 had a launch success rate of 42.9%.\n",
    "3. Payload range [2500, 3500] has 66.7% launch success rate. Payload range [6000, 75000] has 0% launch success rate. Generally, as the minimum payload increases, the launch success rate tends to decrease.\n",
    "4. Booster version B5 has a 100% launch success rate (out of 1 launch). Booster version FT has a 65.2% launch success rate (out of 23 launches). Booster version v1.0 has a 0% launch success rate (out of 3 launches)."
   ]
  }
 ],
 "metadata": {
  "kernelspec": {
   "display_name": "Python 3 (ipykernel)",
   "language": "python",
   "name": "python3"
  },
  "language_info": {
   "codemirror_mode": {
    "name": "ipython",
    "version": 3
   },
   "file_extension": ".py",
   "mimetype": "text/x-python",
   "name": "python",
   "nbconvert_exporter": "python",
   "pygments_lexer": "ipython3",
   "version": "3.9.13"
  }
 },
 "nbformat": 4,
 "nbformat_minor": 5
}
